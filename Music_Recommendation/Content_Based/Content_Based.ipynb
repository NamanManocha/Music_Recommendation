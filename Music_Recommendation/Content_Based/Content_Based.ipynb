{
 "cells": [
  {
   "cell_type": "code",
   "execution_count": 271,
   "metadata": {},
   "outputs": [],
   "source": [
    "# coding: utf-8\n",
    "\n",
    "# Recommendation systems\n",
    "#\n",
    "# Here we'll implement a content-based recommendation algorithm.\n",
    "# It will use the list of genres for a music as the content.\n",
    "# The data comes from the Lastfm project and Spotify Music\n",
    "\n",
    "# Please only use these imports.\n",
    "from collections import Counter, defaultdict\n",
    "import math\n",
    "\n",
    "import numpy as np\n",
    "import os\n",
    "import pandas as pd\n",
    "import re\n",
    "from scipy.sparse import csr_matrix"
   ]
  },
  {
   "cell_type": "code",
   "execution_count": 274,
   "metadata": {},
   "outputs": [],
   "source": [
    "def tokenize_string(my_string):\n",
    "    \"\"\" \n",
    "    This is used in tokenize function.\n",
    "    \"\"\"\n",
    "    return re.findall('[\\w\\&]+', my_string.lower())"
   ]
  },
  {
   "cell_type": "code",
   "execution_count": 275,
   "metadata": {},
   "outputs": [],
   "source": [
    "def tokenize(songs):\n",
    "    \"\"\"\n",
    "    Append a new column to the songs DataFrame with header 'tokens'.\n",
    "    This will contain a list of strings, one per token, extracted\n",
    "    from the 'genre' field of each song. Use the tokenize_string method above.\n",
    "    Note: you may modify the songs parameter directly; no need to make\n",
    "    a new copy.\n",
    "    Params:\n",
    "      songs...The songs DataFrame\n",
    "    Returns:\n",
    "      The songs DataFrame, augmented to include a new column called 'tokens'.\n",
    "    >>> songs = pd.DataFrame([[linkin park, 'Alternative'], [Baby, 'Rock']], columns=['songId', 'genres'])\n",
    "    >>> songs = tokenize(songs)\n",
    "    >>> songs['tokens'].tolist()\n",
    "    [['Alternative', 'rock']]\n",
    "    \"\"\"\n",
    "    tokenlist=[]\n",
    "    for index,row in songs.iterrows():\n",
    "        tokenlist.append(row.title)\n",
    "    songs['tokens']=tokenlist\n",
    "    return songs"
   ]
  },
  {
   "cell_type": "code",
   "execution_count": 290,
   "metadata": {},
   "outputs": [],
   "source": [
    "def featurize(songs):\n",
    "    \"\"\"\n",
    "    Append a new column to the songs DataFrame with header 'features'.\n",
    "    Each row will contain a csr_matrix of shape (1, num_features). Each\n",
    "    entry in this matrix will contain the tf-idf value of the term, as\n",
    "    defined in class:\n",
    "    tfidf(i, d) := tf(i, d) / max_k tf(k, d) * log10(N/df(i))\n",
    "    where:\n",
    "    i is a term\n",
    "    d is a document (song)\n",
    "    tf(i, d) is the frequency of term i in document d\n",
    "    max_k tf(k, d) is the maximum frequency of any term in document d\n",
    "    N is the number of documents (songs)\n",
    "    df(i) is the number of unique documents containing term i\n",
    "    Params:\n",
    "      songs...The songs DataFrame\n",
    "    Returns:\n",
    "      A tuple containing:\n",
    "      - The songs DataFrame, which has been modified to include a column named 'features'.\n",
    "      - The vocab, a dict from term to int. Make sure the vocab is sorted alphabetically as in a2 (e.g., {'aardvark': 0, 'boy': 1, ...})\n",
    "    \"\"\"\n",
    "    def tf(word,doc):\n",
    "        return doc.count(word) / Counter(doc).most_common()[0][1]\n",
    "\n",
    "    def df(word, doclist):\n",
    "        return sum(1 for d in doclist if word in d)\n",
    "\n",
    "    def tfidf(word, doc, dfdict, N):\n",
    "        return tf(word, doc) * math.log10((N/dfdict[word]))\n",
    "\n",
    "    def getcsrmatrix(tokens,dfdict,N,vocab):\n",
    "        matrixRow_list = []\n",
    "        matrixRow_list = np.zeros((1,len(vocab)),dtype='float')\n",
    "        for t in tokens:\n",
    "            if t in vocab:\n",
    "                matrixRow_list[0][vocab[t]] = tfidf(t,tokens,dfdict,N)\n",
    "        return csr_matrix(matrixRow_list)\n",
    "\n",
    "    N=len(songs)\n",
    "    doclist = songs['tokens'].tolist()\n",
    "    vocab = { s:x for x,s in enumerate(sorted(list(set(s for s in doclist)))) }\n",
    "    dfdict = {}\n",
    "    for v in vocab.items():\n",
    "        dfdict[v[0]] = df(v[0],doclist)\n",
    "\n",
    "    csrlist = []\n",
    "    for index, row in songs.iterrows():\n",
    "         csrlist.append(getcsrmatrix(row['tokens'],dfdict,N,vocab))\n",
    "\n",
    "    songs['features'] =  csrlist\n",
    "    return (songs,vocab)"
   ]
  },
  {
   "cell_type": "code",
   "execution_count": 291,
   "metadata": {},
   "outputs": [],
   "source": [
    "def train_test_split(ratings):\n",
    "    \"\"\"\n",
    "    Returns a random split of the ratings matrix into a training and testing set.\n",
    "    \"\"\"\n",
    "    test = set(range(len(ratings))[::1000])\n",
    "    train = sorted(set(range(len(ratings))) - test)\n",
    "    test = sorted(test)\n",
    "    return ratings.iloc[train], ratings.iloc[test]"
   ]
  },
  {
   "cell_type": "code",
   "execution_count": 292,
   "metadata": {},
   "outputs": [],
   "source": [
    "def cosine_sim(a, b):\n",
    "    \"\"\"\n",
    "    Compute the cosine similarity between two 1-d csr_matrices.\n",
    "    Each matrix represents the tf-idf feature vector of a movie.\n",
    "    Params:\n",
    "      a...A csr_matrix with shape (1, number_features)\n",
    "      b...A csr_matrix with shape (1, number_features)\n",
    "    Returns:\n",
    "      The cosine similarity, defined as: dot(a, b) / ||a|| * ||b||\n",
    "      where ||a|| indicates the Euclidean norm (aka L2 norm) of vector a.\n",
    "    \"\"\"\n",
    "    v1 = a.toarray()[0]\n",
    "    v2  = b.toarray()[0]\n",
    "    return sum(i[0] * i[1] for i in zip(v1, v2))/(math.sqrt(sum([i*i for i in v1]))*math.sqrt(sum([i*i for i in v2])))"
   ]
  },
  {
   "cell_type": "code",
   "execution_count": 293,
   "metadata": {},
   "outputs": [],
   "source": [
    "def make_predictions(songs, ratings_train, ratings_test):\n",
    "    \"\"\"\n",
    "    Using the ratings in ratings_train, predict the ratings for each\n",
    "    row in ratings_test.\n",
    "    \n",
    "    Params:\n",
    "      songs..........The songs DataFrame.\n",
    "      ratings_train...The subset of ratings used for making predictions. These are the \"historical\" data.\n",
    "      ratings_test....The subset of ratings that need to predicted. These are the \"future\" data.\n",
    "    Returns:\n",
    "      A numpy array containing one predicted rating for each element of ratings_test.\n",
    "    \"\"\"\n",
    "    result = []\n",
    "    for index,row in ratings_test.iterrows():\n",
    "        mlist = list(ratings_train.loc[ratings_train['userId'] == row['userId']]['songId'])\n",
    "        csrlist = list(songs.loc[songs['songId'].isin(mlist)]['features'])\n",
    "        mrlist = list(ratings_train.loc[ratings_train['userId'] ==row['userId']]['rating'])\n",
    "        cmlist = [cosine_sim(c,songs.loc[songs['songId'] ==row['songId']]['features'].values[0]) for c in csrlist]\n",
    "        wan = sum([ v*mrlist[i] for i,v in enumerate(cmlist) if v>0 ])\n",
    "        wadlist = [i for i in cmlist if i>0]\n",
    "        if (len(wadlist)>0):\n",
    "            result.append(wan/sum(wadlist))\n",
    "        else:\n",
    "            result.append(np.mean(mrlist))\n",
    "    return np.array(result)"
   ]
  },
  {
   "cell_type": "code",
   "execution_count": 294,
   "metadata": {},
   "outputs": [],
   "source": [
    "def mean_absolute_error(predictions, ratings_test):\n",
    "    \"\"\"\n",
    "    Return the mean absolute error of the predictions.\n",
    "    \"\"\"\n",
    "    return np.abs(predictions - np.array(ratings_test.rating)).mean()"
   ]
  },
  {
   "cell_type": "code",
   "execution_count": 296,
   "metadata": {},
   "outputs": [
    {
     "name": "stdout",
     "output_type": "stream",
     "text": [
      "Favorites:\n",
      "[('Agonoize', 0), ('Air', 1), ('Amduscia', 2), ('And One', 3), ('Anorexia Nervosa', 4), ('Artista sconosciuto', 5), ('Behemoth', 6), ('Bella Morte', 7), ('Carpathian Forest', 8), ('Combichrist', 9), ('Covenant', 10), ('Cradle of Filth', 11), ('DIR EN GREY', 12), ('Das Ich', 13), ('Dawn of Ashes', 14), ('Diary of Dreams', 15), ('Dimmu Borgir', 16), ('Duran Duran', 17), ('Emperor', 18), ('Feindflug', 19), ('Funker Vogt', 20), ('God Module', 21), ('Gorgoroth', 22), ('Gothminister', 23), ('Grendel', 24), ('Hocico', 25), ('Hooverphonic', 26), ('Icon of Coil', 27), ('KMFDM', 28), ('Kylie Minogue', 29), ('Laibach', 30), ('Limbonic Art', 31), ('London After Midnight', 32), ('MALICE MIZER', 33), ('Marilyn Manson', 34), ('Mindless Self Indulgence', 35), ('Moi dix Mois', 36), ('Moonspell', 37), ('Morcheeba', 38), ('NoisufX', 39), ('Psyclon Nine', 40), ('Pyotr Ilyich Tchaikovsky', 41), ('Reaper', 42), ('Sopor Aeternus & The Ensemble of Shadows', 43), ('Tamtrum', 44), ('The Crüxshadows', 45), ('The Faint', 46), ('The Kovenant', 47), ('wumpscut', 48), ('xotox', 49)]\n",
      "999 training ratings; 1 testing ratings\n",
      "error=0.367965\n",
      "[4.36796537]\n"
     ]
    },
    {
     "name": "stderr",
     "output_type": "stream",
     "text": [
      "/Users/krugerbrent/anaconda3/lib/python3.7/site-packages/ipykernel_launcher.py:14: RuntimeWarning: invalid value encountered in double_scalars\n",
      "  \n"
     ]
    }
   ],
   "source": [
    "def main():\n",
    "    path = ''\n",
    "    ratings = pd.read_csv(path + os.path.sep + 'ratings.csv')\n",
    "    songs = pd.read_csv(path + os.path.sep + 'songs.csv')\n",
    "    songs = tokenize(songs)\n",
    "    songs, vocab = featurize(songs)\n",
    "    print('Favorites:')\n",
    "    print(sorted(vocab.items())[:100])\n",
    "    ratings_train, ratings_test = train_test_split(ratings)\n",
    "    print('%d training ratings; %d testing ratings' % (len(ratings_train), len(ratings_test)))\n",
    "    predictions = make_predictions(songs, ratings_train, ratings_test)\n",
    "    print('error=%f' % mean_absolute_error(predictions, ratings_test))\n",
    "    print(predictions[:100])\n",
    "\n",
    "\n",
    "if __name__ == '__main__':\n",
    "    main()"
   ]
  }
 ],
 "metadata": {
  "kernelspec": {
   "display_name": "Python 3",
   "language": "python",
   "name": "python3"
  },
  "language_info": {
   "codemirror_mode": {
    "name": "ipython",
    "version": 3
   },
   "file_extension": ".py",
   "mimetype": "text/x-python",
   "name": "python",
   "nbconvert_exporter": "python",
   "pygments_lexer": "ipython3",
   "version": "3.7.3"
  }
 },
 "nbformat": 4,
 "nbformat_minor": 2
}
